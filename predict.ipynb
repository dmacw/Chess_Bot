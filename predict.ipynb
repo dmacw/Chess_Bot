{
 "cells": [
  {
   "cell_type": "code",
   "execution_count": null,
   "metadata": {
    "vscode": {
     "languageId": "plaintext"
    }
   },
   "outputs": [],
   "source": [
    "from chess import Board, pgn\n",
    "from auxiliary_func import board_to_matrix\n",
    "import torch\n",
    "from model import ChessModel\n",
    "import pickle\n",
    "import numpy as np"
   ]
  },
  {
   "cell_type": "code",
   "execution_count": null,
   "metadata": {
    "vscode": {
     "languageId": "plaintext"
    }
   },
   "outputs": [],
   "source": [
    "def prepare_input(board: Board):\n",
    "    matrix = board_to_matrix(board)\n",
    "    X_tensor = torch.tensor(matrix, dtype=torch.float32).unsqueeze(0).permute(0, 3, 1, 2)  # Add batch dimension and permute\n",
    "    return X_tensor"
   ]
  },
  {
   "cell_type": "code",
   "execution_count": null,
   "metadata": {
    "vscode": {
     "languageId": "plaintext"
    }
   },
   "outputs": [],
   "source": [
    "# Load mapping\n",
    "\n",
    "with open(\"../../models/heavy_move_to_int\", \"rb\") as file:\n",
    "    move_to_int = pickle.load(file)\n",
    "\n",
    "# Check for GPU\n",
    "device = torch.device(\"cuda\" if torch.cuda.is_available() else \"cpu\")\n",
    "print(f'Using device: {device}')\n",
    "\n",
    "# Load the model\n",
    "model = ChessModel(num_classes=len(move_to_int))\n",
    "model.load_state_dict(torch.load(\"../../models/TORCH_100EPOCHS.pth\"))\n",
    "model.to(device)\n",
    "model.eval()  # Set the model to evaluation mode\n",
    "\n",
    "int_to_move = {v: k for k, v in move_to_int.items()}\n",
    "# Function to make predictions\n",
    "def predict_move(board: Board):\n",
    "    X_tensor = prepare_input(board).to(device)\n",
    "    \n",
    "    with torch.no_grad():\n",
    "        logits = model(X_tensor)\n",
    "    \n",
    "    logits = logits.squeeze(0)  # Remove batch dimension\n",
    "    \n",
    "    probabilities = torch.softmax(logits, dim=0).cpu().numpy()  # Convert to probabilities\n",
    "    legal_moves = list(board.legal_moves)\n",
    "    legal_moves_uci = [move.uci() for move in legal_moves]\n",
    "    sorted_indices = np.argsort(probabilities)[::-1]\n",
    "    for move_index in sorted_indices:\n",
    "        move = int_to_move[move_index]\n",
    "        if move in legal_moves_uci:\n",
    "            return move\n",
    "    \n",
    "    return None"
   ]
  },
  {
   "cell_type": "code",
   "execution_count": null,
   "metadata": {
    "vscode": {
     "languageId": "plaintext"
    }
   },
   "outputs": [],
   "source": [
    "# Initialize a chess board\n",
    "board = Board()"
   ]
  },
  {
   "cell_type": "code",
   "execution_count": null,
   "metadata": {
    "vscode": {
     "languageId": "plaintext"
    }
   },
   "outputs": [],
   "source": [
    "# Predict and make a move\n",
    "best_move = predict_move(board)\n",
    "board.push_uci(best_move)\n",
    "board"
   ]
  },
  {
   "cell_type": "code",
   "execution_count": null,
   "metadata": {
    "vscode": {
     "languageId": "plaintext"
    }
   },
   "outputs": [],
   "source": [
    "print(str(pgn.Game.from_board(board)))"
   ]
  }
 ],
 "metadata": {
  "language_info": {
   "name": "python"
  }
 },
 "nbformat": 4,
 "nbformat_minor": 2
}
